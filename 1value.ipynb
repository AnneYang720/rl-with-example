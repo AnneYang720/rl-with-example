{
 "cells": [
  {
   "cell_type": "markdown",
   "metadata": {},
   "source": [
    "<center><h1>Value-Based Reinformance Learning</h1></center>"
   ]
  },
  {
   "cell_type": "markdown",
   "metadata": {},
   "source": [
    "# Deep Q-Learning (DQN)\n",
    "\n",
    "DQN uses a neural network to approximate the Q-values. The loss function such as the MSE loss can be:\n",
    "$$ L = \\left(Q(s, a;\\theta) - (r + \\gamma \\max_{a'} Q(s', a';\\theta')) \\right) ^ 2$$\n",
    "\n",
    "The update rule depends on the values produced by the network itself, making convergence diffucult. To address this, the DQN algorithm introduces the use of a replay buffer and target networks. The replay buffer stores past interactions as a list of tuples, which can be sampled to update the value and policy networks. This allows the network to learn from individual tuples multiple times and reduces dependence on the current experience. The target networks are time-delayed copies of the policy and Q-networks, and their parameters are updated according to the following equations:\n",
    "\n",
    "$$ \\theta_Q' \\leftarrow \\tau \\theta_Q + (1 - \\tau) \\theta_Q'$$\n",
    "$$ \\theta_\\mu' \\leftarrow \\tau \\theta_\\mu + (1 - \\tau) \\theta_\\mu'$$\n",
    "\n",
    "where $\\theta_\\mu'$ and $\\theta_Q'$ denote the parameters of the policy and Q-networks, respectively.\n",
    "\n",
    "<center>\n",
    "    <img src=\"./images/dqn.webp\" alt=\"example\">\n",
    "</center>"
   ]
  },
  {
   "cell_type": "markdown",
   "metadata": {},
   "source": [
    "# Double Deep Q-Learning (Double DQN)\n",
    "\n",
    "$$ Q(s,a;\\theta) = r + \\gamma Q(s', argmax_{a'} Q(s', a'; \\theta); \\theta')$$\n",
    "The main neural network, $\\theta$ determines the best next action $a'$, while the target network is used to evaluate this action and compute its Q-value. This simple change has been shown to reduce overestimations of Q-values in DQN."
   ]
  },
  {
   "cell_type": "markdown",
   "metadata": {},
   "source": [
    "# Dueling Deep Q-Learning\n",
    "$$ Q(s,a) = V(s) + (A(s, a) - \\frac{1}{|A|} \\sum_{a'} A(s, a'))$$"
   ]
  },
  {
   "cell_type": "code",
   "execution_count": 1,
   "metadata": {},
   "outputs": [],
   "source": [
    "import torch\n",
    "import torch.nn as nn\n",
    "import numpy as np\n",
    "import gymnasium as gym\n",
    "from model.dqn import DQN, Dueling_DQN\n",
    "import matplotlib.pyplot as plt\n",
    "from collections import deque\n",
    "import random\n",
    "\n",
    "GAMMA = 0.99\n",
    "MINI_BATCH_SIZE = 32\n",
    "MEMORY_SIZE = 50000\n",
    "MIN_REPLAY_SIZE = 1000\n",
    "EPSILON_START = 1.0\n",
    "EPSILON_END = 0.02\n",
    "EPSILON_DECAY = 10000\n",
    "TARGET_UPDATE_FREQUENCY = 1000"
   ]
  },
  {
   "cell_type": "code",
   "execution_count": 2,
   "metadata": {},
   "outputs": [],
   "source": [
    "class ReplayMemory:\n",
    "    def __init__(self, memory_size=MEMORY_SIZE):\n",
    "        self.memory_size = memory_size\n",
    "        self.replay_memory = deque(maxlen=memory_size)\n",
    "\n",
    "    def add(self, memory):\n",
    "        self.replay_memory.append(memory)\n",
    "\n",
    "    def sample(self, batch_size):\n",
    "        memories = random.sample(self.replay_memory, batch_size)\n",
    "        state_batch = torch.as_tensor(np.asarray([memo_i[0] for memo_i in memories]), dtype=torch.float32)  # [batch, 4]\n",
    "        action_batch = torch.as_tensor(np.asarray([memo_i[1] for memo_i in memories]), dtype=torch.int64).unsqueeze(-1)  # [batch, 1]\n",
    "        reward_batch = torch.as_tensor(np.asarray([memo_i[2] for memo_i in memories]), dtype=torch.float32).unsqueeze(-1)  # [batch, 1]\n",
    "        terminal_batch = torch.as_tensor(np.asarray([memo_i[3] for memo_i in memories]), dtype=torch.float32).unsqueeze(-1)  # [batch, 1]\n",
    "        next_state_batch = torch.as_tensor(np.asarray([memo_i[4] for memo_i in memories]), dtype=torch.float32)  # [batch, 4]\n",
    "        return state_batch, action_batch, reward_batch, terminal_batch, next_state_batch\n"
   ]
  },
  {
   "cell_type": "code",
   "execution_count": 3,
   "metadata": {},
   "outputs": [],
   "source": [
    "class DQNAgent(object):\n",
    "    def __init__(self, env_name:str, type:str):\n",
    "        self.env = gym.make(env_name)\n",
    "        self.type = type\n",
    "        self.in_features = int(np.prod(self.env.observation_space.shape))\n",
    "        self.num_actions = self.env.action_space.n\n",
    "\n",
    "        if self.type == 'Dueling_DQN':\n",
    "            self.online_net = Dueling_DQN(self.in_features, self.num_actions)\n",
    "            self.target_net = Dueling_DQN(self.in_features, self.num_actions)\n",
    "        else:\n",
    "            self.online_net = DQN(self.in_features, self.num_actions)\n",
    "            self.target_net = DQN(self.in_features, self.num_actions)\n",
    "\n",
    "        self.optimizer = torch.optim.Adam(self.online_net.parameters(), lr=5e-4)\n",
    "        self.loss_fn = nn.functional.smooth_l1_loss\n",
    "        self.memory = ReplayMemory(memory_size=MEMORY_SIZE)\n",
    "        self.epsilon_gen = self.epsilon_generator(EPSILON_START, EPSILON_END, EPSILON_DECAY)\n",
    "\n",
    "    def create_replay_buffer(self, replay: int):\n",
    "        state, info = self.env.reset()\n",
    "        for _ in range(replay):\n",
    "            action = self.env.action_space.sample()\n",
    "            next_state, reward, terminated, truncated, info = self.env.step(action)\n",
    "            memory = (state, action, reward, terminated, next_state)\n",
    "            self.memory.add(memory)\n",
    "            state = next_state\n",
    "\n",
    "            if terminated:\n",
    "                state, info = self.env.reset()\n",
    "    \n",
    "    def epsilon_generator(self, start, end, decay):\n",
    "        step = 0\n",
    "        while True:\n",
    "            epsilon = np.interp(step, [0, decay], [start, end])\n",
    "            yield epsilon\n",
    "            step += 1\n",
    "    \n",
    "    def train(self, steps, batch_size, gamma):\n",
    "        self.create_replay_buffer(MIN_REPLAY_SIZE)\n",
    "        rewards = []\n",
    "        # Get initial state\n",
    "        episode = 0\n",
    "        episode_reward = 0\n",
    "        state, info = self.env.reset()\n",
    "\n",
    "        for i in range(steps):\n",
    "            # Choose action\n",
    "            epsilon = next(self.epsilon_gen)\n",
    "            action = (\n",
    "                self.env.action_space.sample()\n",
    "                if random.random() <= epsilon\n",
    "                else self.online_net.act(state)\n",
    "            )\n",
    "\n",
    "            # Act\n",
    "            next_state, reward, terminated, truncated, info = self.env.step(action)\n",
    "            self.memory.add((state, action, reward, terminated, next_state))\n",
    "            state = next_state\n",
    "            episode_reward += reward\n",
    "\n",
    "            # Start new episode\n",
    "            if terminated:\n",
    "                state, info = self.env.reset()\n",
    "                rewards.append(episode_reward)\n",
    "                if episode % 10 == 0:\n",
    "                    print(f\"Episode: {episode}, Reward: {episode_reward}\")\n",
    "                episode += 1\n",
    "                episode_reward = 0\n",
    "                \n",
    "            \n",
    "            # Train\n",
    "            state_batch, action_batch, reward_batch, terminal_batch, next_state_batch = self.memory.sample(batch_size)\n",
    "            \n",
    "            ## Compute Targets\n",
    "            if self.type == \"Double_DQN\":\n",
    "                target_q_inner = self.online_net(next_state_batch)\n",
    "                target_a = torch.argmax(target_q_inner, dim=1, keepdim=True)\n",
    "                target_q_values = self.target_net(next_state_batch)\n",
    "                target_a_q_values = torch.gather(input=target_q_values, dim=1, index=target_a)\n",
    "                targets = reward_batch + GAMMA * (1 - terminal_batch) * target_a_q_values\n",
    "            else:\n",
    "                target_q_values = self.target_net(next_state_batch)  # [batch, 2]\n",
    "                max_target_q_values = target_q_values.max(dim=1, keepdim=True)[0]  # [batch, 1]\n",
    "                targets = reward_batch + gamma * (1 - terminal_batch) * max_target_q_values\n",
    "            \n",
    "            ## Compute Loss\n",
    "            q_values = self.online_net(state_batch)\n",
    "            a_q_values = torch.gather(input=q_values, dim=1, index=action_batch)\n",
    "            loss = self.loss_fn(a_q_values, targets)\n",
    "            \n",
    "            ## Gradient Descent\n",
    "            self.optimizer.zero_grad()\n",
    "            loss.backward()\n",
    "            self.optimizer.step()\n",
    "            \n",
    "            \n",
    "            # Update Target Network\n",
    "            if i % TARGET_UPDATE_FREQUENCY == 0:\n",
    "                self.target_net.load_state_dict(self.online_net.state_dict())\n",
    "            \n",
    "        return rewards"
   ]
  },
  {
   "cell_type": "code",
   "execution_count": 4,
   "metadata": {},
   "outputs": [],
   "source": [
    "def plot_graph(reward_history):\n",
    "    plt.plot(range(len(reward_history)), reward_history, marker='', linewidth=1, alpha=0.9, label='y')\n",
    "    plt.xlabel(\"episode\", fontsize=12)\n",
    "    plt.ylabel(\"score\", fontsize=12)\n",
    "    plt.show()\n",
    "    # plt.savefig('score.png')"
   ]
  },
  {
   "cell_type": "code",
   "execution_count": 5,
   "metadata": {},
   "outputs": [
    {
     "name": "stderr",
     "output_type": "stream",
     "text": [
      "/home/gyc/rl-with-example/venv/lib/python3.10/site-packages/gymnasium/envs/registration.py:513: DeprecationWarning: \u001b[33mWARN: The environment CartPole-v0 is out of date. You should consider upgrading to version `v1`.\u001b[0m\n",
      "  logger.deprecation(\n"
     ]
    },
    {
     "name": "stdout",
     "output_type": "stream",
     "text": [
      "Episode: 0, Reward: 58.0\n",
      "Episode: 10, Reward: 17.0\n",
      "Episode: 20, Reward: 11.0\n",
      "Episode: 30, Reward: 47.0\n",
      "Episode: 40, Reward: 11.0\n"
     ]
    },
    {
     "data": {
      "image/png": "[encoded data removed]",
      "text/plain": [
       "<Figure size 640x480 with 1 Axes>"
      ]
     },
     "metadata": {},
     "output_type": "display_data"
    }
   ],
   "source": [
    "def main():   \n",
    "    agent = DQNAgent('CartPole-v0', 'Dueling_DQN')\n",
    "    rewards = agent.train(steps=1000, batch_size=MINI_BATCH_SIZE, gamma=GAMMA)\n",
    "    plot_graph(rewards)\n",
    "\n",
    "main()"
   ]
  }
 ],
 "metadata": {
  "kernelspec": {
   "display_name": "venv",
   "language": "python",
   "name": "python3"
  },
  "language_info": {
   "codemirror_mode": {
    "name": "ipython",
    "version": 3
   },
   "file_extension": ".py",
   "mimetype": "text/x-python",
   "name": "python",
   "nbconvert_exporter": "python",
   "pygments_lexer": "ipython3",
   "version": "3.10.12"
  }
 },
 "nbformat": 4,
 "nbformat_minor": 2
}
